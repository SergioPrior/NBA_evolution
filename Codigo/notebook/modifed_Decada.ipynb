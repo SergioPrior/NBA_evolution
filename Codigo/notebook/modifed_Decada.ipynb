{
 "cells": [
  {
   "cell_type": "code",
   "execution_count": 1,
   "id": "5af10619",
   "metadata": {},
   "outputs": [],
   "source": [
    "import pandas as pd\n",
    "import numpy as np"
   ]
  },
  {
   "cell_type": "code",
   "execution_count": 2,
   "id": "cb4af556",
   "metadata": {},
   "outputs": [],
   "source": [
    "nba = pd.read_csv(r\"../csv/Nba_clean.csv\")\n",
    "nba.drop(columns=\"Unnamed: 0\", inplace = True)"
   ]
  },
  {
   "cell_type": "code",
   "execution_count": 13,
   "id": "138881cd",
   "metadata": {},
   "outputs": [],
   "source": [
    "# Convertir las cadenas de texto a un formato de fecha o año\n",
    "nba['season'] = pd.to_datetime(nba['season'].str.slice(0, 4), format='%Y')\n",
    "\n",
    "# Definir los intervalos y las etiquetas para las décadas\n",
    "intervalos = pd.to_datetime([\"1996-01-01\", \"2006-01-01\", \"2016-01-01\", \"2023-01-01\"])\n",
    "etiquetas = ['1996/2005', '2006/2015', '2015/2023']\n",
    "\n",
    "# Utilizar pd.cut para asignar las décadas a cada temporada\n",
    "nba['Decada'] = pd.cut(nba['season'], bins=intervalos, labels=etiquetas, right=False)"
   ]
  },
  {
   "cell_type": "code",
   "execution_count": 14,
   "id": "7323b1cb",
   "metadata": {},
   "outputs": [],
   "source": [
    "nba['season'] = nba['season'].dt.year"
   ]
  },
  {
   "cell_type": "code",
   "execution_count": 15,
   "id": "5ea69477",
   "metadata": {},
   "outputs": [
    {
     "data": {
      "text/html": [
       "<div>\n",
       "<style scoped>\n",
       "    .dataframe tbody tr th:only-of-type {\n",
       "        vertical-align: middle;\n",
       "    }\n",
       "\n",
       "    .dataframe tbody tr th {\n",
       "        vertical-align: top;\n",
       "    }\n",
       "\n",
       "    .dataframe thead th {\n",
       "        text-align: right;\n",
       "    }\n",
       "</style>\n",
       "<table border=\"1\" class=\"dataframe\">\n",
       "  <thead>\n",
       "    <tr style=\"text-align: right;\">\n",
       "      <th></th>\n",
       "      <th>age</th>\n",
       "      <th>player_height</th>\n",
       "      <th>player_weight</th>\n",
       "    </tr>\n",
       "    <tr>\n",
       "      <th>Decada</th>\n",
       "      <th></th>\n",
       "      <th></th>\n",
       "      <th></th>\n",
       "    </tr>\n",
       "  </thead>\n",
       "  <tbody>\n",
       "    <tr>\n",
       "      <th>2006/2015</th>\n",
       "      <td>44</td>\n",
       "      <td>203.0</td>\n",
       "      <td>101.2</td>\n",
       "    </tr>\n",
       "    <tr>\n",
       "      <th>1996/2005</th>\n",
       "      <td>43</td>\n",
       "      <td>203.0</td>\n",
       "      <td>101.2</td>\n",
       "    </tr>\n",
       "    <tr>\n",
       "      <th>2015/2023</th>\n",
       "      <td>43</td>\n",
       "      <td>200.0</td>\n",
       "      <td>97.5</td>\n",
       "    </tr>\n",
       "  </tbody>\n",
       "</table>\n",
       "</div>"
      ],
      "text/plain": [
       "           age  player_height  player_weight\n",
       "Decada                                      \n",
       "2006/2015   44          203.0          101.2\n",
       "1996/2005   43          203.0          101.2\n",
       "2015/2023   43          200.0           97.5"
      ]
     },
     "execution_count": 15,
     "metadata": {},
     "output_type": "execute_result"
    }
   ],
   "source": [
    "group = nba.groupby([\"Decada\"]).agg({\"age\":\"max\",\"player_height\":\"median\",\"player_weight\":\"median\"}).sort_values(by=\"age\", ascending=False)\n",
    "group"
   ]
  },
  {
   "cell_type": "code",
   "execution_count": null,
   "id": "0aa4785a",
   "metadata": {},
   "outputs": [],
   "source": []
  },
  {
   "cell_type": "code",
   "execution_count": 16,
   "id": "e0f8277c",
   "metadata": {},
   "outputs": [],
   "source": [
    "nba.to_csv(\"Nba_clean.csv\")"
   ]
  },
  {
   "cell_type": "code",
   "execution_count": null,
   "id": "5f526e1c",
   "metadata": {},
   "outputs": [],
   "source": []
  }
 ],
 "metadata": {
  "kernelspec": {
   "display_name": "Python 3 (ipykernel)",
   "language": "python",
   "name": "python3"
  },
  "language_info": {
   "codemirror_mode": {
    "name": "ipython",
    "version": 3
   },
   "file_extension": ".py",
   "mimetype": "text/x-python",
   "name": "python",
   "nbconvert_exporter": "python",
   "pygments_lexer": "ipython3",
   "version": "3.11.5"
  }
 },
 "nbformat": 4,
 "nbformat_minor": 5
}
