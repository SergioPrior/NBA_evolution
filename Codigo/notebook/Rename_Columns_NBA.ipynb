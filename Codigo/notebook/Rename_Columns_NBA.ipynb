{
 "cells": [
  {
   "cell_type": "code",
   "execution_count": 2,
   "id": "a01c20ff",
   "metadata": {},
   "outputs": [],
   "source": [
    "import pandas as pd\n",
    "import numpy as np"
   ]
  },
  {
   "cell_type": "code",
   "execution_count": 3,
   "id": "16a3992e",
   "metadata": {},
   "outputs": [],
   "source": [
    "nba = pd.read_csv(r\"../csv/Nba_Clean.csv\")"
   ]
  },
  {
   "cell_type": "code",
   "execution_count": 3,
   "id": "fe40d990",
   "metadata": {},
   "outputs": [],
   "source": [
    "nba.head()\n",
    "nba.drop(columns=\"Unnamed: 0\" ,inplace = True)"
   ]
  },
  {
   "cell_type": "code",
   "execution_count": 4,
   "id": "0fdc91c6",
   "metadata": {},
   "outputs": [
    {
     "data": {
      "text/html": [
       "<div>\n",
       "<style scoped>\n",
       "    .dataframe tbody tr th:only-of-type {\n",
       "        vertical-align: middle;\n",
       "    }\n",
       "\n",
       "    .dataframe tbody tr th {\n",
       "        vertical-align: top;\n",
       "    }\n",
       "\n",
       "    .dataframe thead th {\n",
       "        text-align: right;\n",
       "    }\n",
       "</style>\n",
       "<table border=\"1\" class=\"dataframe\">\n",
       "  <thead>\n",
       "    <tr style=\"text-align: right;\">\n",
       "      <th></th>\n",
       "      <th>player_name</th>\n",
       "      <th>team_abbreviation</th>\n",
       "      <th>age</th>\n",
       "      <th>player_height</th>\n",
       "      <th>player_weight</th>\n",
       "      <th>country</th>\n",
       "      <th>gp</th>\n",
       "      <th>pts</th>\n",
       "      <th>reb</th>\n",
       "      <th>ast</th>\n",
       "      <th>oreb_pct</th>\n",
       "      <th>dreb_pct</th>\n",
       "      <th>usg_pct</th>\n",
       "      <th>ts_pct</th>\n",
       "      <th>ast_pct</th>\n",
       "      <th>season</th>\n",
       "      <th>Decada</th>\n",
       "    </tr>\n",
       "  </thead>\n",
       "  <tbody>\n",
       "    <tr>\n",
       "      <th>0</th>\n",
       "      <td>Randy Livingston</td>\n",
       "      <td>HOU</td>\n",
       "      <td>22</td>\n",
       "      <td>193</td>\n",
       "      <td>94.8</td>\n",
       "      <td>USA</td>\n",
       "      <td>64</td>\n",
       "      <td>3.9</td>\n",
       "      <td>1.5</td>\n",
       "      <td>2.4</td>\n",
       "      <td>0.04</td>\n",
       "      <td>0.07</td>\n",
       "      <td>0.17</td>\n",
       "      <td>0.49</td>\n",
       "      <td>0.25</td>\n",
       "      <td>1996</td>\n",
       "      <td>1996/2005</td>\n",
       "    </tr>\n",
       "    <tr>\n",
       "      <th>1</th>\n",
       "      <td>Gaylon Nickerson</td>\n",
       "      <td>WAS</td>\n",
       "      <td>28</td>\n",
       "      <td>190</td>\n",
       "      <td>86.2</td>\n",
       "      <td>USA</td>\n",
       "      <td>4</td>\n",
       "      <td>3.8</td>\n",
       "      <td>1.3</td>\n",
       "      <td>0.3</td>\n",
       "      <td>0.03</td>\n",
       "      <td>0.11</td>\n",
       "      <td>0.17</td>\n",
       "      <td>0.50</td>\n",
       "      <td>0.04</td>\n",
       "      <td>1996</td>\n",
       "      <td>1996/2005</td>\n",
       "    </tr>\n",
       "  </tbody>\n",
       "</table>\n",
       "</div>"
      ],
      "text/plain": [
       "        player_name team_abbreviation  age  player_height  player_weight  \\\n",
       "0  Randy Livingston               HOU   22            193           94.8   \n",
       "1  Gaylon Nickerson               WAS   28            190           86.2   \n",
       "\n",
       "  country  gp  pts  reb  ast  oreb_pct  dreb_pct  usg_pct  ts_pct  ast_pct  \\\n",
       "0     USA  64  3.9  1.5  2.4      0.04      0.07     0.17    0.49     0.25   \n",
       "1     USA   4  3.8  1.3  0.3      0.03      0.11     0.17    0.50     0.04   \n",
       "\n",
       "   season     Decada  \n",
       "0    1996  1996/2005  \n",
       "1    1996  1996/2005  "
      ]
     },
     "execution_count": 4,
     "metadata": {},
     "output_type": "execute_result"
    }
   ],
   "source": [
    "nba.head(2)"
   ]
  },
  {
   "cell_type": "code",
   "execution_count": 5,
   "id": "45627e9c",
   "metadata": {},
   "outputs": [],
   "source": [
    "nba.rename(columns={\"player_name\":\"Name\", \"team_abbreviation\":\"Team\",\"player_height\":\"Height\", \"player_weight\":\"Weight\",\n",
    "                         \"country\":\"Country\",\"gp\":\"G_Played\",\"pts\":\"Pts\",\"reb\":\"Reb\",\"ast\":\"Asist\",\"season\":\"Season\", \"Decada\":\"Decade\"},\n",
    "                inplace = True)"
   ]
  },
  {
   "cell_type": "code",
   "execution_count": 6,
   "id": "60e72501",
   "metadata": {},
   "outputs": [],
   "source": [
    "nba.Team.replace({\"HOU\":\"Houston Rockets\", \"WAS\":\"Washington Wizards\", \"MEM\":\"Memphis Grizzlies\", \"LAL\":\"L.A.Lakers\", \"DEN\":\"Denver Nuggets\",\n",
    "                 \"ORL\":\"Orlando Magic\",\"CHH\":\"Charlotte Hornets\", \"MIL\":\"Milwake Bucks\", \"DET\":\"Detroit Pistons\", \"POR\":\"Portland Trail Blazers\",\"DAL\":\"Dallas Mavericks\",\n",
    "                 \"UTA\":\"Utah Jazz\",\"OKC\":\"Oklahoma City Thunder\",\"BOS\":\"Boston Celtic\",\"IND\":\"Indiana Pacers\", \"SAS\":\"San Antonio Spurs\",\n",
    "                 \"MIA\":\"Miami Heat\",\"ATL\":\"Atlanta Hawks\",\"BKN\":\"Brooklyn Nets\",\"LAC\":\"L.A.Clippers\",\"GSW\":\"Golden State\",\"PHI\":\"Philadelphia 76ers\",\"NYK\":\"New York Knicks\",\n",
    "                 \"TOR\":\"Toronto Raptors\",\"PHX\":\"Phoneix Suns\", \"MIN\":\"Minnesota Timberwolves\",\"CHI\":\"Chicago Bulls\",\"SAC\":\"Sacramento Kings\",\"CLE\":\"Cleveland Cavaliers\",\"NOP\":\"New Orleands Pelicans\"},\n",
    "                inplace = True)"
   ]
  },
  {
   "cell_type": "code",
   "execution_count": 7,
   "id": "2291cc43",
   "metadata": {},
   "outputs": [
    {
     "data": {
      "text/plain": [
       "array(['Houston Rockets', 'Washington Wizards', 'Memphis Grizzlies',\n",
       "       'L.A.Lakers', 'Denver Nuggets', 'Orlando Magic',\n",
       "       'Charlotte Hornets', 'Milwake Bucks', 'Detroit Pistons',\n",
       "       'Portland Trail Blazers', 'Dallas Mavericks', 'Utah Jazz',\n",
       "       'Oklahoma City Thunder', 'Boston Celtic', 'Indiana Pacers',\n",
       "       'San Antonio Spurs', 'Miami Heat', 'Atlanta Hawks',\n",
       "       'Brooklyn Nets', 'L.A.Clippers', 'Golden State',\n",
       "       'Philadelphia 76ers', 'New York Knicks', 'Toronto Raptors',\n",
       "       'Phoneix Suns', 'Minnesota Timberwolves', 'Chicago Bulls',\n",
       "       'Sacramento Kings', 'Cleveland Cavaliers', 'New Orleands Pelicans'],\n",
       "      dtype=object)"
      ]
     },
     "execution_count": 7,
     "metadata": {},
     "output_type": "execute_result"
    }
   ],
   "source": [
    "nba.Team.unique()"
   ]
  },
  {
   "cell_type": "code",
   "execution_count": 8,
   "id": "807b86e3",
   "metadata": {},
   "outputs": [],
   "source": [
    "nba.to_csv(\"Nba_Clean.csv\")"
   ]
  },
  {
   "cell_type": "code",
   "execution_count": null,
   "id": "f8d6b977",
   "metadata": {},
   "outputs": [],
   "source": []
  }
 ],
 "metadata": {
  "kernelspec": {
   "display_name": "Python 3 (ipykernel)",
   "language": "python",
   "name": "python3"
  },
  "language_info": {
   "codemirror_mode": {
    "name": "ipython",
    "version": 3
   },
   "file_extension": ".py",
   "mimetype": "text/x-python",
   "name": "python",
   "nbconvert_exporter": "python",
   "pygments_lexer": "ipython3",
   "version": "3.11.5"
  }
 },
 "nbformat": 4,
 "nbformat_minor": 5
}
